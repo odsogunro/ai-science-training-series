{
 "cells": [
  {
   "cell_type": "markdown",
   "metadata": {},
   "source": [
    "# Clustering Data with Machine Learning\n",
    "Another common task in data analysis is clustering data into groups using automated algorithms. There are machine learning algorithms to iteratively collects points together and form clusters. These are generally classified as _unsupervised_ learning because there is no direct input (data or otherwise) from the user required.\n",
    "\n",
    "To demonstrate, we will go through an example here. The point is to show how algorithms can learn features about data that we care about.\n",
    "\n",
    "The [Scikit Learn](https://scikit-learn.org/stable/user_guide.html) is a toolkit we can use to quickly generate a few clusters of data in two dimensions and we demonstrate how to do that here:"
   ]
  },
  {
   "cell_type": "code",
   "execution_count": 2,
   "metadata": {},
   "outputs": [
    {
     "name": "stdout",
     "output_type": "stream",
     "text": [
      "(400, 2) (400,) (4, 2)\n"
     ]
    },
    {
     "data": {
      "text/plain": [
       "[<matplotlib.lines.Line2D at 0x7fe53164a5b0>]"
      ]
     },
     "execution_count": 2,
     "metadata": {},
     "output_type": "execute_result"
    },
    {
     "data": {
      "image/png": "[encoded data removed]",
      "text/plain": [
       "<Figure size 432x288 with 1 Axes>"
      ]
     },
     "metadata": {
      "needs_background": "light"
     },
     "output_type": "display_data"
    }
   ],
   "source": [
    "from sklearn.datasets import make_blobs\n",
    "import matplotlib.pyplot as plt\n",
    "import numpy as np\n",
    "import time\n",
    "import IPython.display as ipydis\n",
    "npoints = 400\n",
    "N = 4\n",
    "x, cluster_labels, cluster_centers = make_blobs(n_samples=npoints, centers=N,\n",
    "                       cluster_std=0.60, random_state=0,\n",
    "                       return_centers=True)\n",
    "print(x.shape,cluster_labels.shape,cluster_centers.shape)\n",
    "plt.plot(x[:, 0], x[:, 1],'b.')\n",
    "plt.plot(cluster_centers[:,0],cluster_centers[:,1],'rx')"
   ]
  },
  {
   "cell_type": "markdown",
   "metadata": {},
   "source": [
    "Here `x` is an array of the data points, `cluster_labels` is an array which labels to which group each point belongs (0-3), `cluster_centers` is a list of the 4 cluster center points.\n",
    "\n",
    "\n",
    "# K-means\n",
    "\n",
    "_K-means_ is a straightforward method to understand that follows these steps:\n",
    "1. Given a set of points $x$, randomly select $N$ center points, or centroids, $c$.\n",
    "2. Calculate the distance of each point to each centroid.\n",
    "3. Assign points the label $0$ to $(N-1)$ based on to which centroid they are closest.\n",
    "4. Calculate new centroids based on the center of mass of each cluster of points.\n",
    "5. Repeat Steps 2-4 until one of these occurs:\n",
    "   - centroids no longer shift more than some defined distance, $\\delta$\n",
    "   - no points change their label\n",
    "   - some predefined iteration max, $N_{iter}$, is reached\n"
   ]
  },
  {
   "cell_type": "code",
   "execution_count": null,
   "metadata": {},
   "outputs": [],
   "source": [
    "def initialize_centroids(x,N):\n",
    "   x_indices = np.random.choice(np.arange(0,x.shape[0]),N)\n",
    "   centroids = x[x_indices]\n",
    "   return centroids\n",
    "\n",
    "def get_new_centroids(x, labels, N):\n",
    "    \"\"\"returns the new centroids assigned from the points closest to them\"\"\"\n",
    "    return np.array([x[labels==k].mean(axis=0) for k in range(N)])"
   ]
  },
  {
   "cell_type": "code",
   "execution_count": null,
   "metadata": {},
   "outputs": [],
   "source": [
    "# distance is sqrt( (x - x')**2 + (y - y')**2 )\n",
    "def assign_labels(x,c):\n",
    "   # centroids are shape [N,2]\n",
    "   # x are shape [npoints,2]\n",
    "   # add middle index to centroids to properly broadcast in math operations\n",
    "   c = c[:,np.newaxis,:] # [N,1,2]\n",
    "   \n",
    "   # calculate (x - x')**2 and (y - y')**2\n",
    "   # x is shape [npoints,2], c is [N,1,2] results in an array of shape: [N,npoints,2]\n",
    "   dist2 = (x - c)**2\n",
    "   \n",
    "   # calculate (x - x')**2 + (y - y')**2\n",
    "   dist2 = dist2.sum(axis=2) # [N,npoints]\n",
    "   \n",
    "   # out of the N distances, return the index (0-(N-1)) of the one that is the minimum.\n",
    "   label = np.argmin(dist2,axis=0) # [npoints]\n",
    "\n",
    "   return label"
   ]
  },
  {
   "cell_type": "code",
   "execution_count": null,
   "metadata": {},
   "outputs": [],
   "source": [
    "c = initialize_centroids(x,N)\n",
    "l = assign_labels(x,c)\n",
    "plt.scatter(x[:, 0], x[:, 1], c=l, s=40, cmap='viridis')"
   ]
  },
  {
   "cell_type": "code",
   "execution_count": null,
   "metadata": {},
   "outputs": [],
   "source": [
    "delta = 0.01\n",
    "last_centroids = initialize_centroids(x,N)\n",
    "last_labels = assign_labels(x,last_centroids)\n",
    "step = 0\n",
    "plt.scatter(x[:, 0], x[:, 1], c=last_labels, s=40, cmap='viridis')\n",
    "plt.title('step %d' % -1)\n",
    "plt.show()\n",
    "time.sleep(1)\n",
    "ipydis.clear_output(wait=True)\n",
    "\n",
    "centroids = get_new_centroids(x,last_labels,N)\n",
    "labels = assign_labels(x,centroids)\n",
    "\n",
    "# test if centroids have stopped moving\n",
    "if np.all((last_centroids - centroids) < delta):\n",
    "   print('centroids unchanged as of step %d' % step)\n",
    "   # done\n",
    "elif np.all(labels == last_labels):\n",
    "   print('point labels unchanged as of step %d' % step)\n",
    "   # done\n",
    "else:\n",
    "   last_labels = labels\n",
    "   last_centroids = centroids\n",
    "\n",
    "plt.scatter(x[:, 0], x[:, 1], c=last_labels, s=40, cmap='viridis')\n",
    "plt.title('step %d' % step)\n",
    "plt.show()\n",
    "\n"
   ]
  },
  {
   "cell_type": "code",
   "execution_count": null,
   "metadata": {},
   "outputs": [],
   "source": []
  },
  {
   "cell_type": "markdown",
   "metadata": {},
   "source": [
    "# Homework\n",
    "Follow the example from the previous notebook [Linear Regression using SGD](./01_linear_regression_sgd.ipynb) and build a loop that properly finds the centers of these 4 clusters using k-means."
   ]
  },
  {
   "cell_type": "markdown",
   "metadata": {},
   "source": [
    "# ANSWER Below"
   ]
  },
  {
   "cell_type": "code",
   "execution_count": null,
   "metadata": {},
   "outputs": [],
   "source": [
    "delta = 0.01\n",
    "last_centroids = initialize_centroids(x,N)\n",
    "last_labels = assign_labels(x,last_centroids)\n",
    "\n",
    "plt.scatter(x[:, 0], x[:, 1], c=last_labels, s=40, cmap='viridis')\n",
    "plt.title('step %d' % -1)\n",
    "plt.show()\n",
    "time.sleep(1)\n",
    "ipydis.clear_output(wait=True)\n",
    "\n",
    "for step in range(30):\n",
    "   centroids = get_new_centroids(x,last_labels,N)\n",
    "   labels = assign_labels(x,centroids)\n",
    "\n",
    "   # test if centroids have stopped moving\n",
    "   if np.all((last_centroids - centroids) < delta):\n",
    "      print('centroids unchanged as of step %d' % step)\n",
    "      break\n",
    "   elif np.all(labels == last_labels):\n",
    "      print('point labels unchanged as of step %d' % step)\n",
    "      break\n",
    "   else:\n",
    "      last_labels = labels\n",
    "      last_centroids = centroids\n",
    "\n",
    "   plt.scatter(x[:, 0], x[:, 1], c=last_labels, s=40, cmap='viridis')\n",
    "   plt.title('step %d' % step)\n",
    "   plt.show()\n",
    "   time.sleep(1)\n",
    "   plt.close('all')\n",
    "   ipydis.clear_output(wait=True)\n",
    "\n",
    "plt.scatter(x[:, 0], x[:, 1], c=last_labels, s=40, cmap='viridis')\n",
    "plt.title('step %d' % step)"
   ]
  },
  {
   "cell_type": "markdown",
   "metadata": {},
   "source": []
  }
 ],
 "metadata": {
  "kernelspec": {
   "display_name": "conda/2021-09-22",
   "language": "python",
   "name": "conda-2021-09-22"
  },
  "language_info": {
   "codemirror_mode": {
    "name": "ipython",
    "version": 3
   },
   "file_extension": ".py",
   "mimetype": "text/x-python",
   "name": "python",
   "nbconvert_exporter": "python",
   "pygments_lexer": "ipython3",
   "version": "3.8.10"
  },
  "vscode": {
   "interpreter": {
    "hash": "867393496f968d090fe39c6b5b789c3d983ec615a76d244443762b40dc96c318"
   }
  }
 },
 "nbformat": 4,
 "nbformat_minor": 2
}
