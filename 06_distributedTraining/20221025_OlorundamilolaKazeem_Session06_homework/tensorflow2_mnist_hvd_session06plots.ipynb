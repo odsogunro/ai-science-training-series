{
 "cells": [
  {
   "cell_type": "code",
   "execution_count": 22,
   "metadata": {},
   "outputs": [],
   "source": [
    "import pandas as pd\n",
    "import matplotlib.pyplot as plt"
   ]
  },
  {
   "cell_type": "code",
   "execution_count": 23,
   "metadata": {},
   "outputs": [
    {
     "name": "stdout",
     "output_type": "stream",
     "text": [
      "10116401.cobaltlog  tensorflow2_mnist_hvd.py\r\n",
      "checkpoints\t    tensorflow2_mnist_hvd_session06plots.ipynb\r\n",
      "metrics.csv\t    tensorflow2_mnist.py\r\n",
      "README.md\t    train_mnist_hvd_thetagpu.sh\r\n"
     ]
    }
   ],
   "source": [
    "!ls"
   ]
  },
  {
   "cell_type": "code",
   "execution_count": 24,
   "metadata": {},
   "outputs": [
    {
     "data": {
      "text/plain": [
       "['train_acc', 'train_loss', 'valid_acc', 'valid_loss', 'time_per_epochs']"
      ]
     },
     "execution_count": 24,
     "metadata": {},
     "output_type": "execute_result"
    }
   ],
   "source": [
    "plt.rcParams[\"figure.figsize\"] = [7.00, 3.50]\n",
    "plt.rcParams[\"figure.autolayout\"] = True\n",
    "columns = [\"train_acc\", \"train_loss\", \"valid_acc\", \"valid_loss\", \"time_per_epochs\"]\n",
    "columns"
   ]
  },
  {
   "cell_type": "code",
   "execution_count": 25,
   "metadata": {},
   "outputs": [
    {
     "data": {
      "text/html": [
       "<div>\n",
       "<style scoped>\n",
       "    .dataframe tbody tr th:only-of-type {\n",
       "        vertical-align: middle;\n",
       "    }\n",
       "\n",
       "    .dataframe tbody tr th {\n",
       "        vertical-align: top;\n",
       "    }\n",
       "\n",
       "    .dataframe thead th {\n",
       "        text-align: right;\n",
       "    }\n",
       "</style>\n",
       "<table border=\"1\" class=\"dataframe\">\n",
       "  <thead>\n",
       "    <tr style=\"text-align: right;\">\n",
       "      <th></th>\n",
       "      <th>0</th>\n",
       "      <th>1</th>\n",
       "      <th>2</th>\n",
       "      <th>3</th>\n",
       "      <th>4</th>\n",
       "    </tr>\n",
       "  </thead>\n",
       "  <tbody>\n",
       "    <tr>\n",
       "      <th>0</th>\n",
       "      <td>0.926199</td>\n",
       "      <td>0.244265</td>\n",
       "      <td>0.981470</td>\n",
       "      <td>0.056640</td>\n",
       "      <td>8.088391</td>\n",
       "    </tr>\n",
       "    <tr>\n",
       "      <th>1</th>\n",
       "      <td>0.968533</td>\n",
       "      <td>0.103199</td>\n",
       "      <td>0.986879</td>\n",
       "      <td>0.040958</td>\n",
       "      <td>1.615948</td>\n",
       "    </tr>\n",
       "    <tr>\n",
       "      <th>2</th>\n",
       "      <td>0.973674</td>\n",
       "      <td>0.084348</td>\n",
       "      <td>0.988381</td>\n",
       "      <td>0.035895</td>\n",
       "      <td>1.617759</td>\n",
       "    </tr>\n",
       "    <tr>\n",
       "      <th>3</th>\n",
       "      <td>0.977914</td>\n",
       "      <td>0.073811</td>\n",
       "      <td>0.987780</td>\n",
       "      <td>0.037418</td>\n",
       "      <td>1.599387</td>\n",
       "    </tr>\n",
       "    <tr>\n",
       "      <th>4</th>\n",
       "      <td>0.978598</td>\n",
       "      <td>0.071115</td>\n",
       "      <td>0.987781</td>\n",
       "      <td>0.039284</td>\n",
       "      <td>1.583445</td>\n",
       "    </tr>\n",
       "    <tr>\n",
       "      <th>5</th>\n",
       "      <td>0.979116</td>\n",
       "      <td>0.068239</td>\n",
       "      <td>0.987380</td>\n",
       "      <td>0.040324</td>\n",
       "      <td>1.603626</td>\n",
       "    </tr>\n",
       "    <tr>\n",
       "      <th>6</th>\n",
       "      <td>0.981035</td>\n",
       "      <td>0.063040</td>\n",
       "      <td>0.988482</td>\n",
       "      <td>0.038100</td>\n",
       "      <td>1.584143</td>\n",
       "    </tr>\n",
       "    <tr>\n",
       "      <th>7</th>\n",
       "      <td>0.982370</td>\n",
       "      <td>0.057479</td>\n",
       "      <td>0.989083</td>\n",
       "      <td>0.038996</td>\n",
       "      <td>1.617794</td>\n",
       "    </tr>\n",
       "    <tr>\n",
       "      <th>8</th>\n",
       "      <td>0.980635</td>\n",
       "      <td>0.062072</td>\n",
       "      <td>0.988582</td>\n",
       "      <td>0.044065</td>\n",
       "      <td>1.689382</td>\n",
       "    </tr>\n",
       "    <tr>\n",
       "      <th>9</th>\n",
       "      <td>0.982187</td>\n",
       "      <td>0.060060</td>\n",
       "      <td>0.988482</td>\n",
       "      <td>0.040593</td>\n",
       "      <td>1.654983</td>\n",
       "    </tr>\n",
       "    <tr>\n",
       "      <th>10</th>\n",
       "      <td>0.982387</td>\n",
       "      <td>0.057725</td>\n",
       "      <td>0.987680</td>\n",
       "      <td>0.043604</td>\n",
       "      <td>1.643609</td>\n",
       "    </tr>\n",
       "    <tr>\n",
       "      <th>11</th>\n",
       "      <td>0.983172</td>\n",
       "      <td>0.054971</td>\n",
       "      <td>0.988081</td>\n",
       "      <td>0.046903</td>\n",
       "      <td>1.731141</td>\n",
       "    </tr>\n",
       "    <tr>\n",
       "      <th>12</th>\n",
       "      <td>0.984774</td>\n",
       "      <td>0.051747</td>\n",
       "      <td>0.987981</td>\n",
       "      <td>0.041570</td>\n",
       "      <td>1.596152</td>\n",
       "    </tr>\n",
       "    <tr>\n",
       "      <th>13</th>\n",
       "      <td>0.983773</td>\n",
       "      <td>0.053472</td>\n",
       "      <td>0.987480</td>\n",
       "      <td>0.048166</td>\n",
       "      <td>1.628119</td>\n",
       "    </tr>\n",
       "    <tr>\n",
       "      <th>14</th>\n",
       "      <td>0.983205</td>\n",
       "      <td>0.056549</td>\n",
       "      <td>0.988882</td>\n",
       "      <td>0.043071</td>\n",
       "      <td>1.641057</td>\n",
       "    </tr>\n",
       "    <tr>\n",
       "      <th>15</th>\n",
       "      <td>0.983355</td>\n",
       "      <td>0.056166</td>\n",
       "      <td>0.989083</td>\n",
       "      <td>0.043863</td>\n",
       "      <td>1.612211</td>\n",
       "    </tr>\n",
       "  </tbody>\n",
       "</table>\n",
       "</div>"
      ],
      "text/plain": [
       "           0         1         2         3         4\n",
       "0   0.926199  0.244265  0.981470  0.056640  8.088391\n",
       "1   0.968533  0.103199  0.986879  0.040958  1.615948\n",
       "2   0.973674  0.084348  0.988381  0.035895  1.617759\n",
       "3   0.977914  0.073811  0.987780  0.037418  1.599387\n",
       "4   0.978598  0.071115  0.987781  0.039284  1.583445\n",
       "5   0.979116  0.068239  0.987380  0.040324  1.603626\n",
       "6   0.981035  0.063040  0.988482  0.038100  1.584143\n",
       "7   0.982370  0.057479  0.989083  0.038996  1.617794\n",
       "8   0.980635  0.062072  0.988582  0.044065  1.689382\n",
       "9   0.982187  0.060060  0.988482  0.040593  1.654983\n",
       "10  0.982387  0.057725  0.987680  0.043604  1.643609\n",
       "11  0.983172  0.054971  0.988081  0.046903  1.731141\n",
       "12  0.984774  0.051747  0.987981  0.041570  1.596152\n",
       "13  0.983773  0.053472  0.987480  0.048166  1.628119\n",
       "14  0.983205  0.056549  0.988882  0.043071  1.641057\n",
       "15  0.983355  0.056166  0.989083  0.043863  1.612211"
      ]
     },
     "execution_count": 25,
     "metadata": {},
     "output_type": "execute_result"
    }
   ],
   "source": [
    "df = pd.read_csv(\"metrics_for_1_gpus.csv\", header=None)\n",
    "df2 = pd.read_csv(\"metrics_for_2_gpus.csv\", header=None)\n",
    "df4 = pd.read_csv(\"metrics_for_4_gpus.csv\", header=None)\n",
    "df8 = pd.read_csv(\"metrics_for_8_gpus.csv\", header=None)\n",
    "df"
   ]
  },
  {
   "cell_type": "code",
   "execution_count": 26,
   "metadata": {},
   "outputs": [
    {
     "data": {
      "text/plain": [
       "[0, 1, 2, 3, 4, 5, 6, 7, 8, 9, 10, 11, 12, 13, 14, 15]"
      ]
     },
     "execution_count": 26,
     "metadata": {},
     "output_type": "execute_result"
    }
   ],
   "source": [
    "epoch = [n for n in range(len(df[0]))]\n",
    "epoch"
   ]
  },
  {
   "cell_type": "code",
   "execution_count": 27,
   "metadata": {},
   "outputs": [
    {
     "data": {
      "image/png": "[encoded data removed]",
      "text/plain": [
       "<Figure size 504x252 with 1 Axes>"
      ]
     },
     "metadata": {
      "needs_background": "light"
     },
     "output_type": "display_data"
    }
   ],
   "source": [
    "# Train Accuracies\n",
    "plt.plot(epoch, df[0])\n",
    "plt.show()"
   ]
  },
  {
   "cell_type": "code",
   "execution_count": 28,
   "metadata": {},
   "outputs": [
    {
     "data": {
      "image/png": "[encoded data removed]",
      "text/plain": [
       "<Figure size 504x252 with 1 Axes>"
      ]
     },
     "metadata": {
      "needs_background": "light"
     },
     "output_type": "display_data"
    }
   ],
   "source": [
    "# Train Losses\n",
    "plt.plot(epoch, df[1])\n",
    "plt.show()"
   ]
  },
  {
   "cell_type": "code",
   "execution_count": 29,
   "metadata": {},
   "outputs": [
    {
     "data": {
      "image/png": "[encoded data removed]",
      "text/plain": [
       "<Figure size 504x252 with 1 Axes>"
      ]
     },
     "metadata": {
      "needs_background": "light"
     },
     "output_type": "display_data"
    }
   ],
   "source": [
    "# Validation Accuracies\n",
    "plt.plot(epoch, df[2])\n",
    "plt.show()"
   ]
  },
  {
   "cell_type": "code",
   "execution_count": 30,
   "metadata": {},
   "outputs": [
    {
     "data": {
      "image/png": "[encoded data removed]",
      "text/plain": [
       "<Figure size 504x252 with 1 Axes>"
      ]
     },
     "metadata": {
      "needs_background": "light"
     },
     "output_type": "display_data"
    }
   ],
   "source": [
    "# Validation Losses\n",
    "plt.plot(epoch, df[3])\n",
    "plt.show()"
   ]
  },
  {
   "cell_type": "code",
   "execution_count": null,
   "metadata": {},
   "outputs": [],
   "source": []
  }
 ],
 "metadata": {
  "kernelspec": {
   "display_name": "conda/2021-09-22",
   "language": "python",
   "name": "conda-2021-09-22"
  },
  "language_info": {
   "codemirror_mode": {
    "name": "ipython",
    "version": 3
   },
   "file_extension": ".py",
   "mimetype": "text/x-python",
   "name": "python",
   "nbconvert_exporter": "python",
   "pygments_lexer": "ipython3",
   "version": "3.8.10"
  },
  "vscode": {
   "interpreter": {
    "hash": "31f2aee4e71d21fbe5cf8b01ff0e069b9275f58929596ceb00d14d90e3e16cd6"
   }
  }
 },
 "nbformat": 4,
 "nbformat_minor": 2
}
